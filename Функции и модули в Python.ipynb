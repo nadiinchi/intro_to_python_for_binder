{
 "cells": [
  {
   "cell_type": "markdown",
   "metadata": {},
   "source": [
    "# Модули и функции в python\n",
    "\n",
    "На втором занятии мы познакомимся еще с двумя базовыми конструкциями языка Python - модулями и функциями. Они потребуются нам завтра, когда мы будем обсуждать использование языка Python для решения задач машинного обучения."
   ]
  },
  {
   "cell_type": "markdown",
   "metadata": {},
   "source": [
    "## Функции\n",
    "\n",
    "Функция задает алгоритм (последовательность шагов, операций с переменными), который можно повторять много раз для разных входных данных.\n",
    "\n",
    "Определение функции:\n",
    "* def NAME - задаем функцию с названием NAME.\n",
    "* def NAME(OP1, OP2) - входные данные функции, называемые аргументами функции; их может быть несколько, а может совсем не быть. На место этих переменных будут подставляться другие переменные.\n",
    "* def NAME(OP1, OP2, OP3=0) - аргумент OP3 по умолчанию равен 0 (можно использовать любые значения по умолчанию). Если при вызове (использовании) функции этот аргумент не задается, то используется значение по умолчанию, если задается - то значение, которое задано.\n",
    "\n",
    "Пример:"
   ]
  },
  {
   "cell_type": "code",
   "execution_count": null,
   "metadata": {
    "collapsed": true
   },
   "outputs": [],
   "source": [
    "def repeat(s):\n",
    "    print(s*10)"
   ]
  },
  {
   "cell_type": "markdown",
   "metadata": {},
   "source": [
    "Эта функция печатает строку s, повторенную 10 раз. Пока что мы только определили функцию (задали ее логику). Чтобы выполнить эту логику, нужно вызвать функцию. Для этого надо написать имя функции и передать аргументы в круглых скобках:"
   ]
  },
  {
   "cell_type": "code",
   "execution_count": null,
   "metadata": {
    "collapsed": true
   },
   "outputs": [],
   "source": [
    "repeat(\"Срочно!\")"
   ]
  },
  {
   "cell_type": "markdown",
   "metadata": {},
   "source": [
    "Строка \"Срочно!\" подставилась в коде функции в переменную s. \n",
    "\n",
    "Добавим необязательный аргумент, отвечающий за число повторов:"
   ]
  },
  {
   "cell_type": "code",
   "execution_count": null,
   "metadata": {
    "collapsed": true
   },
   "outputs": [],
   "source": [
    "def repeat(s, count=10):\n",
    "    print(s*count)"
   ]
  },
  {
   "cell_type": "markdown",
   "metadata": {},
   "source": [
    "Вызовем функцию, не указывая count, в этом случае функция работает так же, как раньше:"
   ]
  },
  {
   "cell_type": "code",
   "execution_count": null,
   "metadata": {
    "collapsed": true
   },
   "outputs": [],
   "source": [
    "repeat(\"Срочно!\")"
   ]
  },
  {
   "cell_type": "markdown",
   "metadata": {},
   "source": [
    "А можно указать, сколько раз повторять:"
   ]
  },
  {
   "cell_type": "code",
   "execution_count": null,
   "metadata": {
    "collapsed": true
   },
   "outputs": [],
   "source": [
    "repeat(\"Срочно!\", 100)"
   ]
  },
  {
   "cell_type": "markdown",
   "metadata": {},
   "source": [
    "При вызове функции можно подставлять переменные в том же порядке, что в определении функции, а можно указывать их по именам - работает одинаково. Во втором случае можно менять порядок указывания аргументов:"
   ]
  },
  {
   "cell_type": "code",
   "execution_count": null,
   "metadata": {
    "collapsed": true
   },
   "outputs": [],
   "source": [
    "repeat(s=\"Срочно!\", count=3)\n",
    "repeat(count=3, s=\"Срочно!\")"
   ]
  },
  {
   "cell_type": "markdown",
   "metadata": {},
   "source": [
    "Мы уже встречали функции: print() - это тоже функция, в которую можно передавать много аргументов для печати, \" \".join() - тоже функция."
   ]
  },
  {
   "cell_type": "markdown",
   "metadata": {},
   "source": [
    "### Задачи\n",
    "\n",
    "#### Задача 1. Создание функции\n",
    "\n",
    "Напишите функцию, которая принимает число и печатает два числа: результат умножения входного числа на 10 и результат прибавления к входному числу 1. \n",
    "\n",
    "Например, для входа 5 получится 50, 6. \n",
    "\n",
    "Обратите внимание, что на данном этапе ячейка ничего печатать не должна."
   ]
  },
  {
   "cell_type": "code",
   "execution_count": null,
   "metadata": {
    "collapsed": true
   },
   "outputs": [],
   "source": [
    "def transform(x):\n",
    "    ### напишите Ваш код\n",
    "    "
   ]
  },
  {
   "cell_type": "markdown",
   "metadata": {},
   "source": [
    "#### Задача 2. Тестирование функции\n",
    "\n",
    "Вызовите функцию для входа, равного 5. Она должна печатать 50, 6."
   ]
  },
  {
   "cell_type": "code",
   "execution_count": null,
   "metadata": {
    "collapsed": true
   },
   "outputs": [],
   "source": [
    "### напишите Ваш код\n"
   ]
  },
  {
   "cell_type": "markdown",
   "metadata": {},
   "source": [
    "#### Задача 3. Опциональные аргументы\n",
    "\n",
    "Добавьте два необязательных аргумента: на какое число умножать и какое число прибавлять. Теперь вместо двух 10 и 1 в функции будут присутствовать переменные a и b."
   ]
  },
  {
   "cell_type": "code",
   "execution_count": null,
   "metadata": {
    "collapsed": true
   },
   "outputs": [],
   "source": [
    "def transform(x, a=10, b=1):\n",
    "    ### напишите Ваш код\n",
    "    "
   ]
  },
  {
   "cell_type": "markdown",
   "metadata": {},
   "source": [
    "#### Задача 4. Тестирование функции с опциональными аргументами\n",
    "\n",
    "Вызовите функцию для входа, равного 10, чтобы она умножала его на 100 и прибавляла 5. Вам понадобится указать значения a и b.\n",
    "\n",
    "В итоге функция должна напечатать 1000, 15."
   ]
  },
  {
   "cell_type": "code",
   "execution_count": null,
   "metadata": {
    "collapsed": true
   },
   "outputs": [],
   "source": [
    "### напишите Ваш код\n"
   ]
  },
  {
   "cell_type": "markdown",
   "metadata": {},
   "source": [
    "#### Задача 5. Функция, обрабатывающая список\n",
    "\n",
    "Напишите еще одну функцию, которая принимает на вход список чисел и обрабатывает его следующим образом: все числа возводятся в квадрат и печатаются. Например, для входного списка [4, 1, 12, 14, 3] напечатается 16, 1, 144, 196, 9."
   ]
  },
  {
   "cell_type": "code",
   "execution_count": null,
   "metadata": {
    "collapsed": true
   },
   "outputs": [],
   "source": [
    "def strange_fun(xs):\n",
    "    ### напишите Ваш код\n",
    "    "
   ]
  },
  {
   "cell_type": "markdown",
   "metadata": {},
   "source": [
    "Протестируйте функцию:"
   ]
  },
  {
   "cell_type": "code",
   "execution_count": null,
   "metadata": {
    "collapsed": true
   },
   "outputs": [],
   "source": [
    "### напишите Ваш код\n"
   ]
  },
  {
   "cell_type": "markdown",
   "metadata": {},
   "source": [
    "## Модули\n",
    "\n",
    "Для языка python написано много готовых функций, которые реализуют различные алгоритмы. Эти функции хранятся в модулях. Команда импортирования (подключения) модуля:\n",
    "\n",
    "import MODULE\n",
    "\n",
    "Например, импортируем модуль для работы с математикой:"
   ]
  },
  {
   "cell_type": "code",
   "execution_count": null,
   "metadata": {
    "collapsed": true
   },
   "outputs": [],
   "source": [
    "!pip install numpy\n",
    "import numpy"
   ]
  },
  {
   "cell_type": "markdown",
   "metadata": {},
   "source": [
    "Мы можем вызывать его функции через точку: numpy.FUNCTION. Например, функция логарифм числа:"
   ]
  },
  {
   "cell_type": "code",
   "execution_count": null,
   "metadata": {
    "collapsed": true
   },
   "outputs": [],
   "source": [
    "numpy.log10(100)"
   ]
  },
  {
   "cell_type": "markdown",
   "metadata": {},
   "source": [
    "Или квадратный корень:"
   ]
  },
  {
   "cell_type": "code",
   "execution_count": null,
   "metadata": {
    "collapsed": true
   },
   "outputs": [],
   "source": [
    "numpy.sqrt(100)"
   ]
  },
  {
   "cell_type": "markdown",
   "metadata": {},
   "source": [
    "Функция случайного перемешивания списка:"
   ]
  },
  {
   "cell_type": "code",
   "execution_count": null,
   "metadata": {
    "collapsed": true
   },
   "outputs": [],
   "source": [
    "numpy.random.permutation([1, 2, 3, 4, 5])"
   ]
  },
  {
   "cell_type": "markdown",
   "metadata": {},
   "source": [
    "Внутри функции задана процедура перемешивания, аналогично тому, как вы реализовали функции в заданиях выше."
   ]
  },
  {
   "cell_type": "markdown",
   "metadata": {},
   "source": [
    "Модули бывают для разных операций. Для примера рассмотрим модули рисования графиков и считывания данных в формате Excel."
   ]
  },
  {
   "cell_type": "markdown",
   "metadata": {},
   "source": [
    "### Модуль Matplotlib для рисования графиков"
   ]
  },
  {
   "cell_type": "code",
   "execution_count": null,
   "metadata": {
    "collapsed": true
   },
   "outputs": [],
   "source": [
    "!pip install matplotlib\n",
    "import matplotlib.pyplot as plt\n",
    "# as plt - переименование модуля, чтобы использовать более короткое название\n",
    "%matplotlib inline\n",
    "# служебная команда, чтобы графики могли рисоваться в системе jupyter"
   ]
  },
  {
   "cell_type": "markdown",
   "metadata": {},
   "source": [
    "plt.plot - функция рисования графиков. В нее можно передать список значений для рисования:"
   ]
  },
  {
   "cell_type": "code",
   "execution_count": null,
   "metadata": {
    "collapsed": true
   },
   "outputs": [],
   "source": [
    "plt.plot([1, 4, 9, 16])"
   ]
  },
  {
   "cell_type": "markdown",
   "metadata": {},
   "source": [
    "То же самое с заданием имени переменной:"
   ]
  },
  {
   "cell_type": "code",
   "execution_count": null,
   "metadata": {
    "collapsed": true
   },
   "outputs": [],
   "source": [
    "values = [1, 4, 9, 16]\n",
    "plt.plot(values)"
   ]
  },
  {
   "cell_type": "markdown",
   "metadata": {},
   "source": [
    "Можно вызвать дополнительные функции для подписывания осей:"
   ]
  },
  {
   "cell_type": "code",
   "execution_count": null,
   "metadata": {
    "collapsed": true
   },
   "outputs": [],
   "source": [
    "plt.plot([1, 4, 9, 16])\n",
    "plt.xlabel(\"x\")\n",
    "plt.ylabel(\"квадрат x\")"
   ]
  },
  {
   "cell_type": "markdown",
   "metadata": {},
   "source": [
    "Можно менять абсциссу:"
   ]
  },
  {
   "cell_type": "code",
   "execution_count": null,
   "metadata": {
    "collapsed": true
   },
   "outputs": [],
   "source": [
    "plt.plot([-1, 0, 1], [1, 0, 1])\n",
    "plt.xlabel(\"x\")\n",
    "plt.ylabel(\"|x|\")"
   ]
  },
  {
   "cell_type": "markdown",
   "metadata": {},
   "source": [
    "То же самое с переменными:"
   ]
  },
  {
   "cell_type": "code",
   "execution_count": null,
   "metadata": {
    "collapsed": true
   },
   "outputs": [],
   "source": [
    "xs = [-1, 0, 1]\n",
    "ys = [1, 0, 1]\n",
    "plt.plot(xs, ys)\n",
    "plt.xlabel(\"x\")\n",
    "plt.ylabel(\"|x|\")"
   ]
  },
  {
   "cell_type": "markdown",
   "metadata": {},
   "source": [
    "#### Задача 6. Построение графика\n",
    "\n",
    "Нарисуйте график функции $y=x^2$ для точек от -10 до 10 с шагом 1. \n",
    "\n",
    "Совет: воспользуйтесь циклом! Переберите x из range(-10, 11). Возведение в квадрат задается операцией **\n",
    "\n",
    "Задать пустой список: xs = [ ], добавить элемент в список: xs.append(10)."
   ]
  },
  {
   "cell_type": "code",
   "execution_count": null,
   "metadata": {
    "collapsed": true
   },
   "outputs": [],
   "source": [
    "### напишите Ваш код\n"
   ]
  },
  {
   "cell_type": "markdown",
   "metadata": {},
   "source": [
    "### Модуль считывания данных в разных форматах"
   ]
  },
  {
   "cell_type": "code",
   "execution_count": null,
   "metadata": {
    "collapsed": true
   },
   "outputs": [],
   "source": [
    "!pip install pandas\n",
    "!pip install xlrd\n",
    "import pandas as pd"
   ]
  },
  {
   "cell_type": "markdown",
   "metadata": {},
   "source": [
    "Функция считывания данных в формате Excel:"
   ]
  },
  {
   "cell_type": "code",
   "execution_count": null,
   "metadata": {
    "collapsed": true
   },
   "outputs": [],
   "source": [
    "table = pd.read_excel(\"scoring.xlsx\")"
   ]
  },
  {
   "cell_type": "markdown",
   "metadata": {},
   "source": [
    "Выведем первые 10 строк таблицы:"
   ]
  },
  {
   "cell_type": "code",
   "execution_count": null,
   "metadata": {
    "collapsed": true
   },
   "outputs": [],
   "source": [
    "table.head(10)"
   ]
  },
  {
   "cell_type": "markdown",
   "metadata": {},
   "source": [
    "В Pandas можно и создавать Excel-файлы. Сначала создадим таблицу. Для этого нам понадобятся списки, а также еще одна структура данных - словарь. Он задается в фигурных скобках, и в нем могут храниться данные с ключами-именами:"
   ]
  },
  {
   "cell_type": "code",
   "execution_count": null,
   "metadata": {
    "collapsed": true
   },
   "outputs": [],
   "source": [
    "my_table_data = {\"index\":[1, 2, 3, 4, 5], \\\n",
    "            \"name\":[\"Maria\", \"Fedor\", \"Yulia\", \"Petr\", \"Ruslan\"],\\\n",
    "           \"age\":[10, 7, 8, 11, 4]}\n",
    "my_table = pd.DataFrame(my_table_data)"
   ]
  },
  {
   "cell_type": "code",
   "execution_count": null,
   "metadata": {
    "collapsed": true
   },
   "outputs": [],
   "source": [
    "my_table"
   ]
  },
  {
   "cell_type": "markdown",
   "metadata": {},
   "source": [
    "Сохраним в Excel:"
   ]
  },
  {
   "cell_type": "code",
   "execution_count": null,
   "metadata": {
    "collapsed": true
   },
   "outputs": [],
   "source": [
    "my_table.to_excel(\"Таблица Дети.xlsx\")"
   ]
  },
  {
   "cell_type": "markdown",
   "metadata": {},
   "source": [
    "Задание: создайте таблицу с колонками \"x\" и \"x2\". В первой колонке хранятся числа от -10 до 10, во второй - их квадраты. Сохраните таблицу в Excel. Используйте переменные, которые вы создали в задании по Matplotlib."
   ]
  },
  {
   "cell_type": "code",
   "execution_count": null,
   "metadata": {
    "collapsed": true
   },
   "outputs": [],
   "source": [
    "### напишите Ваш код\n"
   ]
  },
  {
   "cell_type": "code",
   "execution_count": null,
   "metadata": {
    "collapsed": true
   },
   "outputs": [],
   "source": []
  },
  {
   "cell_type": "code",
   "execution_count": null,
   "metadata": {
    "collapsed": true
   },
   "outputs": [],
   "source": []
  }
 ],
 "metadata": {
  "anaconda-cloud": {},
  "kernelspec": {
   "display_name": "Python 3",
   "language": "python",
   "name": "python3"
  },
  "language_info": {
   "codemirror_mode": {
    "name": "ipython",
    "version": 3
   },
   "file_extension": ".py",
   "mimetype": "text/x-python",
   "name": "python",
   "nbconvert_exporter": "python",
   "pygments_lexer": "ipython3",
   "version": "3.6.3"
  }
 },
 "nbformat": 4,
 "nbformat_minor": 1
}
